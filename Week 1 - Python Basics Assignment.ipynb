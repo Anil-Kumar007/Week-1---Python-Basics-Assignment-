{
 "cells": [
  {
   "cell_type": "markdown",
   "id": "6b2fc3a7-4e16-4862-ac0c-21ba38517541",
   "metadata": {},
   "source": [
    "Practical Questions"
   ]
  },
  {
   "cell_type": "code",
   "execution_count": 1,
   "id": "ccf289c2-57fa-4e66-a94e-c6ce524365c7",
   "metadata": {},
   "outputs": [
    {
     "name": "stdout",
     "output_type": "stream",
     "text": [
      "Hello, World!\n"
     ]
    }
   ],
   "source": [
    "# 1) Write a Python program to print \"Hello, World!?\n",
    "print(\"Hello, World!\")"
   ]
  },
  {
   "cell_type": "code",
   "execution_count": 2,
   "id": "f6c4f425-da75-402a-8726-0d3d9139c479",
   "metadata": {},
   "outputs": [
    {
     "name": "stdin",
     "output_type": "stream",
     "text": [
      "Tell me your name? Anil\n",
      "What's your age? 30\n"
     ]
    }
   ],
   "source": [
    "# 2) Write a Python program that displays your name and age.\n",
    "name = input(\"Tell me your name?\")\n",
    "age = int(input(\"What's your age?\"))"
   ]
  },
  {
   "cell_type": "code",
   "execution_count": 4,
   "id": "f9ef28b3-5d71-41d3-9bbb-28efa2efeb15",
   "metadata": {},
   "outputs": [
    {
     "name": "stdout",
     "output_type": "stream",
     "text": [
      "\n",
      "Here is a list of the Python keywords.  Enter any keyword to get more help.\n",
      "\n",
      "False               class               from                or\n",
      "None                continue            global              pass\n",
      "True                def                 if                  raise\n",
      "and                 del                 import              return\n",
      "as                  elif                in                  try\n",
      "assert              else                is                  while\n",
      "async               except              lambda              with\n",
      "await               finally             nonlocal            yield\n",
      "break               for                 not                 \n",
      "\n"
     ]
    }
   ],
   "source": [
    "# 3) Write code to print all the pre-defined keywords in Python using the keyword library.\n",
    "help(\"keywords\")"
   ]
  },
  {
   "cell_type": "code",
   "execution_count": 7,
   "id": "6b880209-2fcd-4891-94f7-a5dd958a5ab7",
   "metadata": {},
   "outputs": [
    {
     "name": "stdin",
     "output_type": "stream",
     "text": [
      "Enter a word to check if it's a Python keyword:  has\n"
     ]
    },
    {
     "name": "stdout",
     "output_type": "stream",
     "text": [
      "'has' is NOT a Python keyword.\n"
     ]
    }
   ],
   "source": [
    "# 4) Write a program that checks if a given word is a Python keyword.\n",
    "import keyword\n",
    "\n",
    "def check_keyword(word):\n",
    "    if keyword.iskeyword(word):\n",
    "        print(f\"'{word}' is a Python keyword.\")\n",
    "    else:\n",
    "        print(f\"'{word}' is NOT a Python keyword.\")\n",
    "\n",
    "# Example usage\n",
    "word = input(\"Enter a word to check if it's a Python keyword: \")\n",
    "check_keyword(word)\n"
   ]
  },
  {
   "cell_type": "code",
   "execution_count": 12,
   "id": "9d619fff-236b-4f20-85da-48ff534d366b",
   "metadata": {},
   "outputs": [
    {
     "name": "stdout",
     "output_type": "stream",
     "text": [
      "Original list: [1, 2, 3]\n",
      "Modified list: [10, 2, 3]\n",
      "\n",
      "Original tuple: (1, 2, 3)\n",
      "Error when trying to modify tuple: 'tuple' object does not support item assignment\n"
     ]
    }
   ],
   "source": [
    "# 5) Create a list and tuple in Python, and demonstrate how attempting to change an element works differently for each\n",
    "\n",
    "# Creating a list and a tuple\n",
    "my_list = [1, 2, 3]\n",
    "my_tuple = (1, 2, 3)\n",
    "\n",
    "# Try changing an element in the list\n",
    "print(\"Original list:\", my_list)\n",
    "my_list[0] = 10\n",
    "print(\"Modified list:\", my_list)\n",
    "\n",
    "# Try changing an element in the tuple\n",
    "print(\"\\nOriginal tuple:\", my_tuple)\n",
    "try:\n",
    "    my_tuple[0] = 10\n",
    "except TypeError as e:\n",
    "    print(\"Error when trying to modify tuple:\", e)\n"
   ]
  },
  {
   "cell_type": "code",
   "execution_count": 10,
   "id": "0cc53fe5-a341-4370-aaad-4c85c085b334",
   "metadata": {},
   "outputs": [
    {
     "name": "stdout",
     "output_type": "stream",
     "text": [
      "Before function call: [1, 2, 3]\n",
      "Inside function: [1, 2, 3, 100]\n",
      "After function call: [1, 2, 3, 100]\n"
     ]
    }
   ],
   "source": [
    "# 6) Write a function to demonstrate the behavior of mutable arguments?\n",
    "\n",
    "def modify_list(my_list):\n",
    "    my_list.append(100)\n",
    "    print(\"Inside function:\", my_list)\n",
    "\n",
    "# Create a list\n",
    "numbers = [1, 2, 3]\n",
    "print(\"Before function call:\", numbers)\n",
    "\n",
    "# Pass the list to the function\n",
    "modify_list(numbers)\n",
    "\n",
    "print(\"After function call:\", numbers)\n",
    "\n"
   ]
  },
  {
   "cell_type": "code",
   "execution_count": 11,
   "id": "f3f67b40-9944-4f56-9589-a814af998872",
   "metadata": {},
   "outputs": [
    {
     "name": "stdout",
     "output_type": "stream",
     "text": [
      "Original num before function call: 5\n",
      "Original x inside function: 5\n",
      "Modified x inside function: 15\n",
      "Value of num after function call: 5\n"
     ]
    }
   ],
   "source": [
    "# 7) Write a function to demonstrate the behavior of immutable arguments?\n",
    "\n",
    "def change_number(x):\n",
    "    print(\"Original x inside function:\", x)\n",
    "    x = x + 10\n",
    "    print(\"Modified x inside function:\", x)\n",
    "\n",
    "# Outside the function\n",
    "num = 5\n",
    "print(\"Original num before function call:\", num)\n",
    "change_number(num)\n",
    "print(\"Value of num after function call:\", num)\n",
    "\n"
   ]
  },
  {
   "cell_type": "code",
   "execution_count": 13,
   "id": "078afcff-d032-4867-a2b7-53f68368dd13",
   "metadata": {},
   "outputs": [
    {
     "name": "stdout",
     "output_type": "stream",
     "text": [
      "a and b: False\n",
      "a or b: True\n",
      "not a: False\n",
      "not b: True\n"
     ]
    }
   ],
   "source": [
    "# 8) Write a program to demonstrate the use of logical operators\n",
    "a = True\n",
    "b = False\n",
    "\n",
    "# Using 'and'\n",
    "print(\"a and b:\", a and b)  # False (both must be True)\n",
    "\n",
    "# Using 'or'\n",
    "print(\"a or b:\", a or b)    # True (one is True)\n",
    "\n",
    "# Using 'not'\n",
    "print(\"not a:\", not a)      # False (opposite of True)\n",
    "print(\"not b:\", not b)      # True (opposite of False)\n"
   ]
  },
  {
   "cell_type": "code",
   "execution_count": 14,
   "id": "95e4c8c7-7a93-4a2b-b785-d63e19882f91",
   "metadata": {},
   "outputs": [
    {
     "name": "stdin",
     "output_type": "stream",
     "text": [
      "Enter something:  20\n"
     ]
    },
    {
     "name": "stdout",
     "output_type": "stream",
     "text": [
      "Integer: 20\n",
      "Float: 20.0\n",
      "Boolean: True\n"
     ]
    }
   ],
   "source": [
    "# 9) Write a Python program to convert user input from string to integer, float, and boolean types?\n",
    "# Get input from the user\n",
    "user_input = input(\"Enter something: \")\n",
    "\n",
    "# Convert to integer\n",
    "try:\n",
    "    int_value = int(user_input)\n",
    "    print(\"Integer:\", int_value)\n",
    "except ValueError:\n",
    "    print(\"Cannot convert to integer\")\n",
    "\n",
    "# Convert to float\n",
    "try:\n",
    "    float_value = float(user_input)\n",
    "    print(\"Float:\", float_value)\n",
    "except ValueError:\n",
    "    print(\"Cannot convert to float\")\n",
    "\n",
    "# Convert to boolean\n",
    "# In Python, non-empty strings are considered True\n",
    "bool_value = bool(user_input)\n",
    "print(\"Boolean:\", bool_value)\n"
   ]
  },
  {
   "cell_type": "code",
   "execution_count": 15,
   "id": "0dd65ed5-4658-47bc-9263-3474fc82339b",
   "metadata": {},
   "outputs": [
    {
     "name": "stdout",
     "output_type": "stream",
     "text": [
      "Original list: ['1', '2', '3', '4.5', 'true']\n",
      "As integers:   [1, 2, 3, 4, 'Invalid']\n",
      "As floats:     [1.0, 2.0, 3.0, 4.5, 'Invalid']\n",
      "As booleans:   [True, True, True, True, True]\n"
     ]
    }
   ],
   "source": [
    "# 10) Write code to demonstrate type casting with list elements.\n",
    "# List of string numbers\n",
    "str_list = ['1', '2', '3', '4.5', 'true']\n",
    "\n",
    "# Convert string elements to different types\n",
    "int_list = []\n",
    "float_list = []\n",
    "bool_list = []\n",
    "\n",
    "for item in str_list:\n",
    "    try:\n",
    "        int_list.append(int(float(item)))  # Convert to int (via float for safety)\n",
    "    except ValueError:\n",
    "        int_list.append(\"Invalid\")\n",
    "\n",
    "    try:\n",
    "        float_list.append(float(item))  # Convert to float\n",
    "    except ValueError:\n",
    "        float_list.append(\"Invalid\")\n",
    "\n",
    "    # Convert to boolean (non-empty strings are True, empty is False)\n",
    "    bool_list.append(bool(item))\n",
    "\n",
    "# Print results\n",
    "print(\"Original list:\", str_list)\n",
    "print(\"As integers:  \", int_list)\n",
    "print(\"As floats:    \", float_list)\n",
    "print(\"As booleans:  \", bool_list)\n"
   ]
  },
  {
   "cell_type": "code",
   "execution_count": 16,
   "id": "4cc4abf0-d7bd-4c36-b0dc-ff72f340d20a",
   "metadata": {},
   "outputs": [
    {
     "name": "stdin",
     "output_type": "stream",
     "text": [
      "Enter a number:  32\n"
     ]
    },
    {
     "name": "stdout",
     "output_type": "stream",
     "text": [
      "The number is positive.\n"
     ]
    }
   ],
   "source": [
    "# 11) Write a program that checks if a number is positive, negative, or zero.\n",
    "# Get user input\n",
    "number = float(input(\"Enter a number: \"))\n",
    "\n",
    "# Check if the number is positive, negative, or zero\n",
    "if number > 0:\n",
    "    print(\"The number is positive.\")\n",
    "elif number < 0:\n",
    "    print(\"The number is negative.\")\n",
    "else:\n",
    "    print(\"The number is zero.\")\n"
   ]
  },
  {
   "cell_type": "code",
   "execution_count": 20,
   "id": "9acbf559-9e76-41bb-b608-3f93d987c38d",
   "metadata": {},
   "outputs": [
    {
     "name": "stdout",
     "output_type": "stream",
     "text": [
      "1 2 3 4 5 6 7 8 9 10 11 12 13 14 15 16 17 18 19 20 21 22 23 24 25 26 27 28 29 30 31 32 33 34 35 36 37 38 39 40 41 42 43 44 45 46 47 48 49 50 51 52 53 54 55 56 57 58 59 60 61 62 63 64 65 66 67 68 69 70 71 72 73 74 75 76 77 78 79 80 81 82 83 84 85 86 87 88 89 90 91 92 93 94 95 96 97 98 99 100 "
     ]
    }
   ],
   "source": [
    "# 12) Write a for loop to print numbers from 1 to 100.\n",
    "# Using a for loop to print numbers from 1 to 100\n",
    "for number in range(1, 101):\n",
    "    print(number,end=\" \")"
   ]
  },
  {
   "cell_type": "code",
   "execution_count": 21,
   "id": "c4c719f2-cf70-4f69-90ab-b74b25320b92",
   "metadata": {},
   "outputs": [
    {
     "name": "stdout",
     "output_type": "stream",
     "text": [
      "Sum of all even numbers between 1 and 50: 650\n"
     ]
    }
   ],
   "source": [
    "# 13) Write a Python program to find the sum of all even numbers between 1 and 50.\n",
    "# Initialize sum variable\n",
    "sum_even = 0\n",
    "\n",
    "# Loop through numbers from 1 to 50\n",
    "for number in range(1, 51):\n",
    "    if number % 2 == 0:  # Check if the number is even\n",
    "        sum_even += number\n",
    "\n",
    "# Print the result\n",
    "print(\"Sum of all even numbers between 1 and 50:\", sum_even)\n"
   ]
  },
  {
   "cell_type": "code",
   "execution_count": 26,
   "id": "d775508b-832e-4520-88ab-582e67465ded",
   "metadata": {},
   "outputs": [
    {
     "name": "stdin",
     "output_type": "stream",
     "text": [
      "Enter a string:  History\n"
     ]
    },
    {
     "name": "stdout",
     "output_type": "stream",
     "text": [
      "Reversed string: yrotsiH\n"
     ]
    }
   ],
   "source": [
    "# 14) Write a program to reverse a string using a while loop.\n",
    "# Input string from the user\n",
    "input_string = input(\"Enter a string: \")\n",
    "\n",
    "# Initialize variables\n",
    "reversed_string = \"\"\n",
    "index = len(input_string) - 1\n",
    "\n",
    "# Reverse the string using a while loop\n",
    "while index >= 0:\n",
    "    reversed_string += input_string[index]\n",
    "    index -= 1\n",
    "\n",
    "# Print the reversed string\n",
    "print(\"Reversed string:\", reversed_string)\n"
   ]
  },
  {
   "cell_type": "code",
   "execution_count": 23,
   "id": "8d489453-eeea-4211-8482-7928e273c19d",
   "metadata": {},
   "outputs": [
    {
     "name": "stdin",
     "output_type": "stream",
     "text": [
      "Enter a number to calculate its factorial:  4\n"
     ]
    },
    {
     "name": "stdout",
     "output_type": "stream",
     "text": [
      "The factorial of 4 is: 24\n"
     ]
    }
   ],
   "source": [
    "# 15) Write a Python program to calculate the factorial of a number provided by the user using a while loop.\n",
    "# Get input from the user\n",
    "number = int(input(\"Enter a number to calculate its factorial: \"))\n",
    "\n",
    "# Initialize variables\n",
    "factorial = 1\n",
    "counter = 1\n",
    "\n",
    "# Calculate factorial using a while loop\n",
    "while counter <= number:\n",
    "    factorial *= counter\n",
    "    counter += 1\n",
    "\n",
    "# Print the result\n",
    "print(f\"The factorial of {number} is: {factorial}\")\n"
   ]
  },
  {
   "cell_type": "code",
   "execution_count": null,
   "id": "f0cb3534-6f5e-4cb9-aea7-cf679db296fd",
   "metadata": {},
   "outputs": [],
   "source": []
  }
 ],
 "metadata": {
  "kernelspec": {
   "display_name": "Python 3 (ipykernel)",
   "language": "python",
   "name": "python3"
  },
  "language_info": {
   "codemirror_mode": {
    "name": "ipython",
    "version": 3
   },
   "file_extension": ".py",
   "mimetype": "text/x-python",
   "name": "python",
   "nbconvert_exporter": "python",
   "pygments_lexer": "ipython3",
   "version": "3.13.2"
  }
 },
 "nbformat": 4,
 "nbformat_minor": 5
}
